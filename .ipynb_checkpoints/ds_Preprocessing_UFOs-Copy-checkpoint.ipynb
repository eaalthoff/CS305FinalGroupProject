{
 "cells": [
  {
   "cell_type": "markdown",
   "id": "dbd22385",
   "metadata": {},
   "source": [
    "## Let's look at aliens\n",
    "\n",
    "Source of data (Kaggle): https://www.kaggle.com/code/dhruvkalia/ufo-sightings-dbscan/data"
   ]
  },
  {
   "cell_type": "code",
   "execution_count": 2,
   "id": "546af497",
   "metadata": {
    "scrolled": true
   },
   "outputs": [
    {
     "data": {
      "text/html": [
       "<div>\n",
       "<style scoped>\n",
       "    .dataframe tbody tr th:only-of-type {\n",
       "        vertical-align: middle;\n",
       "    }\n",
       "\n",
       "    .dataframe tbody tr th {\n",
       "        vertical-align: top;\n",
       "    }\n",
       "\n",
       "    .dataframe thead th {\n",
       "        text-align: right;\n",
       "    }\n",
       "</style>\n",
       "<table border=\"1\" class=\"dataframe\">\n",
       "  <thead>\n",
       "    <tr style=\"text-align: right;\">\n",
       "      <th></th>\n",
       "      <th>datetime</th>\n",
       "      <th>city</th>\n",
       "      <th>state</th>\n",
       "      <th>country</th>\n",
       "      <th>UFOtype</th>\n",
       "      <th>seconds</th>\n",
       "      <th>hours_mins</th>\n",
       "      <th>comments</th>\n",
       "      <th>posted</th>\n",
       "      <th>latitude</th>\n",
       "      <th>longitude</th>\n",
       "    </tr>\n",
       "  </thead>\n",
       "  <tbody>\n",
       "    <tr>\n",
       "      <th>0</th>\n",
       "      <td>10/10/1949 20:30</td>\n",
       "      <td>san marcos</td>\n",
       "      <td>tx</td>\n",
       "      <td>us</td>\n",
       "      <td>cylinder</td>\n",
       "      <td>2700</td>\n",
       "      <td>45 minutes</td>\n",
       "      <td>This event took place in early fall around 194...</td>\n",
       "      <td>4/27/2004</td>\n",
       "      <td>29.8830556</td>\n",
       "      <td>-97.941111</td>\n",
       "    </tr>\n",
       "    <tr>\n",
       "      <th>1</th>\n",
       "      <td>10/10/1949 21:00</td>\n",
       "      <td>lackland afb</td>\n",
       "      <td>tx</td>\n",
       "      <td>NaN</td>\n",
       "      <td>light</td>\n",
       "      <td>7200</td>\n",
       "      <td>1-2 hrs</td>\n",
       "      <td>1949 Lackland AFB&amp;#44 TX.  Lights racing acros...</td>\n",
       "      <td>12/16/2005</td>\n",
       "      <td>29.38421</td>\n",
       "      <td>-98.581082</td>\n",
       "    </tr>\n",
       "    <tr>\n",
       "      <th>2</th>\n",
       "      <td>10/10/1955 17:00</td>\n",
       "      <td>chester (uk/england)</td>\n",
       "      <td>NaN</td>\n",
       "      <td>gb</td>\n",
       "      <td>circle</td>\n",
       "      <td>20</td>\n",
       "      <td>20 seconds</td>\n",
       "      <td>Green/Orange circular disc over Chester&amp;#44 En...</td>\n",
       "      <td>1/21/2008</td>\n",
       "      <td>53.2</td>\n",
       "      <td>-2.916667</td>\n",
       "    </tr>\n",
       "    <tr>\n",
       "      <th>3</th>\n",
       "      <td>10/10/1956 21:00</td>\n",
       "      <td>edna</td>\n",
       "      <td>tx</td>\n",
       "      <td>us</td>\n",
       "      <td>circle</td>\n",
       "      <td>20</td>\n",
       "      <td>1/2 hour</td>\n",
       "      <td>My older brother and twin sister were leaving ...</td>\n",
       "      <td>1/17/2004</td>\n",
       "      <td>28.9783333</td>\n",
       "      <td>-96.645833</td>\n",
       "    </tr>\n",
       "    <tr>\n",
       "      <th>4</th>\n",
       "      <td>10/10/1960 20:00</td>\n",
       "      <td>kaneohe</td>\n",
       "      <td>hi</td>\n",
       "      <td>us</td>\n",
       "      <td>light</td>\n",
       "      <td>900</td>\n",
       "      <td>15 minutes</td>\n",
       "      <td>AS a Marine 1st Lt. flying an FJ4B fighter/att...</td>\n",
       "      <td>1/22/2004</td>\n",
       "      <td>21.4180556</td>\n",
       "      <td>-157.803611</td>\n",
       "    </tr>\n",
       "  </tbody>\n",
       "</table>\n",
       "</div>"
      ],
      "text/plain": [
       "           datetime                  city state country   UFOtype seconds  \\\n",
       "0  10/10/1949 20:30            san marcos    tx      us  cylinder    2700   \n",
       "1  10/10/1949 21:00          lackland afb    tx     NaN     light    7200   \n",
       "2  10/10/1955 17:00  chester (uk/england)   NaN      gb    circle      20   \n",
       "3  10/10/1956 21:00                  edna    tx      us    circle      20   \n",
       "4  10/10/1960 20:00               kaneohe    hi      us     light     900   \n",
       "\n",
       "   hours_mins                                           comments      posted  \\\n",
       "0  45 minutes  This event took place in early fall around 194...   4/27/2004   \n",
       "1     1-2 hrs  1949 Lackland AFB&#44 TX.  Lights racing acros...  12/16/2005   \n",
       "2  20 seconds  Green/Orange circular disc over Chester&#44 En...   1/21/2008   \n",
       "3    1/2 hour  My older brother and twin sister were leaving ...   1/17/2004   \n",
       "4  15 minutes  AS a Marine 1st Lt. flying an FJ4B fighter/att...   1/22/2004   \n",
       "\n",
       "     latitude   longitude  \n",
       "0  29.8830556  -97.941111  \n",
       "1    29.38421  -98.581082  \n",
       "2        53.2   -2.916667  \n",
       "3  28.9783333  -96.645833  \n",
       "4  21.4180556 -157.803611  "
      ]
     },
     "execution_count": 2,
     "metadata": {},
     "output_type": "execute_result"
    }
   ],
   "source": [
    "import numpy as np\n",
    "import pandas as pd\n",
    "import matplotlib.pyplot as plt\n",
    "\n",
    "tempDF = pd.read_csv(\"Data/scrubbed.csv\", low_memory=False) #make sure to use scrubbed\n",
    "\n",
    "ufos_main = tempDF.rename({'shape': 'UFOtype', 'duration (seconds)': 'seconds', 'duration (hours/min)': 'hours_mins', 'date posted': 'posted', 'longitude ': 'longitude'}, axis=1)\n",
    "ufos_main.head()"
   ]
  },
  {
   "cell_type": "code",
   "execution_count": 3,
   "id": "d03c00aa",
   "metadata": {},
   "outputs": [
    {
     "data": {
      "text/plain": [
       "(80332, 11)"
      ]
     },
     "execution_count": 3,
     "metadata": {},
     "output_type": "execute_result"
    }
   ],
   "source": [
    "ufos_main.shape"
   ]
  },
  {
   "cell_type": "code",
   "execution_count": 4,
   "id": "fda11876",
   "metadata": {},
   "outputs": [
    {
     "data": {
      "text/html": [
       "<div>\n",
       "<style scoped>\n",
       "    .dataframe tbody tr th:only-of-type {\n",
       "        vertical-align: middle;\n",
       "    }\n",
       "\n",
       "    .dataframe tbody tr th {\n",
       "        vertical-align: top;\n",
       "    }\n",
       "\n",
       "    .dataframe thead th {\n",
       "        text-align: right;\n",
       "    }\n",
       "</style>\n",
       "<table border=\"1\" class=\"dataframe\">\n",
       "  <thead>\n",
       "    <tr style=\"text-align: right;\">\n",
       "      <th></th>\n",
       "      <th>datetime</th>\n",
       "      <th>city</th>\n",
       "      <th>state</th>\n",
       "      <th>country</th>\n",
       "      <th>UFOtype</th>\n",
       "      <th>seconds</th>\n",
       "      <th>hours_mins</th>\n",
       "      <th>comments</th>\n",
       "      <th>posted</th>\n",
       "      <th>latitude</th>\n",
       "      <th>longitude</th>\n",
       "    </tr>\n",
       "  </thead>\n",
       "  <tbody>\n",
       "    <tr>\n",
       "      <th>0</th>\n",
       "      <td>10/10/1949</td>\n",
       "      <td>san marcos</td>\n",
       "      <td>tx</td>\n",
       "      <td>us</td>\n",
       "      <td>cylinder</td>\n",
       "      <td>2700</td>\n",
       "      <td>45 minutes</td>\n",
       "      <td>This event took place in early fall around 194...</td>\n",
       "      <td>4/27/2004</td>\n",
       "      <td>29.8830556</td>\n",
       "      <td>-97.941111</td>\n",
       "    </tr>\n",
       "    <tr>\n",
       "      <th>1</th>\n",
       "      <td>10/10/1949</td>\n",
       "      <td>lackland afb</td>\n",
       "      <td>tx</td>\n",
       "      <td>NaN</td>\n",
       "      <td>light</td>\n",
       "      <td>7200</td>\n",
       "      <td>1-2 hrs</td>\n",
       "      <td>1949 Lackland AFB&amp;#44 TX.  Lights racing acros...</td>\n",
       "      <td>12/16/2005</td>\n",
       "      <td>29.38421</td>\n",
       "      <td>-98.581082</td>\n",
       "    </tr>\n",
       "    <tr>\n",
       "      <th>2</th>\n",
       "      <td>10/10/1955</td>\n",
       "      <td>chester (uk/england)</td>\n",
       "      <td>NaN</td>\n",
       "      <td>gb</td>\n",
       "      <td>circle</td>\n",
       "      <td>20</td>\n",
       "      <td>20 seconds</td>\n",
       "      <td>Green/Orange circular disc over Chester&amp;#44 En...</td>\n",
       "      <td>1/21/2008</td>\n",
       "      <td>53.2</td>\n",
       "      <td>-2.916667</td>\n",
       "    </tr>\n",
       "    <tr>\n",
       "      <th>3</th>\n",
       "      <td>10/10/1956</td>\n",
       "      <td>edna</td>\n",
       "      <td>tx</td>\n",
       "      <td>us</td>\n",
       "      <td>circle</td>\n",
       "      <td>20</td>\n",
       "      <td>1/2 hour</td>\n",
       "      <td>My older brother and twin sister were leaving ...</td>\n",
       "      <td>1/17/2004</td>\n",
       "      <td>28.9783333</td>\n",
       "      <td>-96.645833</td>\n",
       "    </tr>\n",
       "    <tr>\n",
       "      <th>4</th>\n",
       "      <td>10/10/1960</td>\n",
       "      <td>kaneohe</td>\n",
       "      <td>hi</td>\n",
       "      <td>us</td>\n",
       "      <td>light</td>\n",
       "      <td>900</td>\n",
       "      <td>15 minutes</td>\n",
       "      <td>AS a Marine 1st Lt. flying an FJ4B fighter/att...</td>\n",
       "      <td>1/22/2004</td>\n",
       "      <td>21.4180556</td>\n",
       "      <td>-157.803611</td>\n",
       "    </tr>\n",
       "  </tbody>\n",
       "</table>\n",
       "</div>"
      ],
      "text/plain": [
       "     datetime                  city state country   UFOtype seconds  \\\n",
       "0  10/10/1949            san marcos    tx      us  cylinder    2700   \n",
       "1  10/10/1949          lackland afb    tx     NaN     light    7200   \n",
       "2  10/10/1955  chester (uk/england)   NaN      gb    circle      20   \n",
       "3  10/10/1956                  edna    tx      us    circle      20   \n",
       "4  10/10/1960               kaneohe    hi      us     light     900   \n",
       "\n",
       "   hours_mins                                           comments      posted  \\\n",
       "0  45 minutes  This event took place in early fall around 194...   4/27/2004   \n",
       "1     1-2 hrs  1949 Lackland AFB&#44 TX.  Lights racing acros...  12/16/2005   \n",
       "2  20 seconds  Green/Orange circular disc over Chester&#44 En...   1/21/2008   \n",
       "3    1/2 hour  My older brother and twin sister were leaving ...   1/17/2004   \n",
       "4  15 minutes  AS a Marine 1st Lt. flying an FJ4B fighter/att...   1/22/2004   \n",
       "\n",
       "     latitude   longitude  \n",
       "0  29.8830556  -97.941111  \n",
       "1    29.38421  -98.581082  \n",
       "2        53.2   -2.916667  \n",
       "3  28.9783333  -96.645833  \n",
       "4  21.4180556 -157.803611  "
      ]
     },
     "execution_count": 4,
     "metadata": {},
     "output_type": "execute_result"
    }
   ],
   "source": [
    "#getting rid of the time because datetime doesn't like how it's formatted\n",
    "ufos_main['datetime'] = ufos_main['datetime'].str.split(' ').str[0]\n",
    "ufos_main.head()"
   ]
  },
  {
   "cell_type": "code",
   "execution_count": 5,
   "id": "3ba78ff0",
   "metadata": {},
   "outputs": [],
   "source": [
    "#changing dtypes\n",
    "#I know there's one value that will mess with converting the lat column into a float, so I'm just getting rid of it\n",
    "ufos_main.drop(ufos_main[ufos_main['latitude'] == '33q.200088'].index, inplace = True)\n",
    "\n",
    "ufos_main.datetime=pd.to_datetime(ufos_main.datetime)\n",
    "ufos_main['city'] = ufos_main['city'].astype('string')\n",
    "ufos_main['state'] = ufos_main['state'].astype('string')\n",
    "ufos_main['country'] = ufos_main['country'].astype('string')\n",
    "ufos_main['UFOtype'] = ufos_main['UFOtype'].astype('string')\n",
    "ufos_main['seconds'] = ufos_main['seconds'].astype('string')\n",
    "ufos_main['hours_mins'] = ufos_main['hours_mins'].astype('string')\n",
    "ufos_main['comments'] = ufos_main['comments'].astype('string')\n",
    "ufos_main['posted'] = ufos_main['posted'].astype('string')\n",
    "ufos_main['latitude'] = ufos_main['latitude'].astype(np.float64)"
   ]
  },
  {
   "cell_type": "code",
   "execution_count": 6,
   "id": "c3ef9135",
   "metadata": {},
   "outputs": [
    {
     "data": {
      "text/plain": [
       "datetime      datetime64[ns]\n",
       "city                  string\n",
       "state                 string\n",
       "country               string\n",
       "UFOtype               string\n",
       "seconds               string\n",
       "hours_mins            string\n",
       "comments              string\n",
       "posted                string\n",
       "latitude             float64\n",
       "longitude            float64\n",
       "dtype: object"
      ]
     },
     "execution_count": 6,
     "metadata": {},
     "output_type": "execute_result"
    }
   ],
   "source": [
    "ufos_main.dtypes"
   ]
  },
  {
   "cell_type": "code",
   "execution_count": 7,
   "id": "5475a74c",
   "metadata": {},
   "outputs": [
    {
     "data": {
      "text/plain": [
       "datetime         0\n",
       "city             0\n",
       "state         5797\n",
       "country       9669\n",
       "UFOtype       1932\n",
       "seconds          0\n",
       "hours_mins       0\n",
       "comments        15\n",
       "posted           0\n",
       "latitude         0\n",
       "longitude        0\n",
       "dtype: int64"
      ]
     },
     "execution_count": 7,
     "metadata": {},
     "output_type": "execute_result"
    }
   ],
   "source": [
    "ufos_main.isna().sum()"
   ]
  },
  {
   "cell_type": "code",
   "execution_count": 8,
   "id": "6646b239",
   "metadata": {},
   "outputs": [
    {
     "data": {
      "text/plain": [
       "datetime      0\n",
       "city          0\n",
       "state         0\n",
       "country       0\n",
       "UFOtype       0\n",
       "seconds       0\n",
       "hours_mins    0\n",
       "comments      0\n",
       "posted        0\n",
       "latitude      0\n",
       "longitude     0\n",
       "dtype: int64"
      ]
     },
     "execution_count": 8,
     "metadata": {},
     "output_type": "execute_result"
    }
   ],
   "source": [
    "#filling/dropping NAs\n",
    "ufos_main.comments=ufos_main.comments.fillna('None or unknown')\n",
    "ufos_main.UFOtype=ufos_main.UFOtype.fillna('None or unknown')\n",
    "ufos_main.state=ufos_main.state.fillna('Not applicable')\n",
    "ufos_main=ufos_main.dropna()\n",
    "ufos_main.isna().sum()"
   ]
  },
  {
   "cell_type": "code",
   "execution_count": 9,
   "id": "bf562788",
   "metadata": {},
   "outputs": [
    {
     "data": {
      "text/plain": [
       "(70662, 11)"
      ]
     },
     "execution_count": 9,
     "metadata": {},
     "output_type": "execute_result"
    }
   ],
   "source": [
    "ufos_main.shape"
   ]
  },
  {
   "cell_type": "code",
   "execution_count": 10,
   "id": "7636354b",
   "metadata": {},
   "outputs": [],
   "source": [
    "caResults=ufos_main.loc[ufos_main['state'] == 'ca']"
   ]
  },
  {
   "cell_type": "code",
   "execution_count": 11,
   "id": "e8b5e1a1",
   "metadata": {},
   "outputs": [
    {
     "data": {
      "text/plain": [
       "light              1829\n",
       "circle              844\n",
       "triangle            822\n",
       "fireball            699\n",
       "disk                630\n",
       "sphere              617\n",
       "other               616\n",
       "unknown             564\n",
       "oval                388\n",
       "formation           294\n",
       "changing            267\n",
       "None or unknown     228\n",
       "cigar               198\n",
       "rectangle           150\n",
       "chevron             150\n",
       "flash               142\n",
       "diamond             135\n",
       "cylinder            120\n",
       "egg                  86\n",
       "teardrop             72\n",
       "cross                31\n",
       "cone                 28\n",
       "flare                 1\n",
       "round                 1\n",
       "Name: UFOtype, dtype: Int64"
      ]
     },
     "execution_count": 11,
     "metadata": {},
     "output_type": "execute_result"
    }
   ],
   "source": [
    "caResults.UFOtype.value_counts()"
   ]
  },
  {
   "cell_type": "code",
   "execution_count": 151,
   "id": "21f5e24c",
   "metadata": {},
   "outputs": [
    {
     "data": {
      "text/plain": [
       "latitude     float64\n",
       "longitude    float64\n",
       "type          string\n",
       "dtype: object"
      ]
     },
     "execution_count": 151,
     "metadata": {},
     "output_type": "execute_result"
    }
   ],
   "source": [
    "locations = pd.DataFrame({'latitude':ufos_main.latitude,'longitude':ufos_main.longitude,'type':ufos_main.UFOtype})\n",
    "locations.dtypes"
   ]
  },
  {
   "cell_type": "code",
   "execution_count": null,
   "id": "c3741df4",
   "metadata": {},
   "outputs": [],
   "source": []
  },
  {
   "cell_type": "code",
   "execution_count": 152,
   "id": "bb871561",
   "metadata": {},
   "outputs": [],
   "source": [
    "locations.type = [0 if element == 'cylinder' else element for element in locations.type]\n",
    "locations.type = [1 if element == 'light' else element for element in locations.type]\n",
    "locations.type = [2 if element == 'circle' else element for element in locations.type]\n",
    "locations.type = [3 if element == 'sphere' else element for element in locations.type]\n",
    "locations.type = [4 if element == 'disk' else element for element in locations.type]\n",
    "locations.type = [5 if element == 'fireball' else element for element in locations.type]\n",
    "locations.type = [6 if element == 'oval' else element for element in locations.type]\n",
    "locations.type = [7 if element == 'cigar' else element for element in locations.type]\n",
    "locations.type = [8 if element == 'rectangle' else element for element in locations.type]\n",
    "locations.type = [9 if element == 'chevron' else element for element in locations.type]\n",
    "locations.type = [10 if element == 'triangle' else element for element in locations.type]\n",
    "locations.type = [11 if element == 'formation' else element for element in locations.type]\n",
    "locations.type = [12 if element == 'delta' else element for element in locations.type]\n",
    "locations.type = [13 if element == 'changing' else element for element in locations.type]\n",
    "locations.type = [14 if element == 'egg' else element for element in locations.type]\n",
    "locations.type = [15 if element == 'diamond' else element for element in locations.type]\n",
    "locations.type = [16 if element == 'flash' else element for element in locations.type]\n",
    "locations.type = [17 if element == 'teardrop' else element for element in locations.type]\n",
    "locations.type = [18 if element == 'cone' else element for element in locations.type]\n",
    "locations.type = [19 if element == 'cross' else element for element in locations.type]\n",
    "locations.type = [20 if element == 'pyramid' else element for element in locations.type]\n",
    "locations.type = [21 if element == 'round' else element for element in locations.type]\n",
    "locations.type = [22 if element == 'crescent' else element for element in locations.type]\n",
    "locations.type = [23 if element == 'flare' else element for element in locations.type]\n",
    "locations.type = [24 if element == 'hexagon' else element for element in locations.type]\n",
    "locations.type = [25 if element == 'dome' else element for element in locations.type]\n",
    "locations.type = [26 if element == 'changed' else element for element in locations.type]\n",
    "locations.type = [27 if element == 'None or unknown' else element for element in locations.type]\n",
    "\n",
    "\n",
    "locations = locations.dropna()\n",
    "locations = locations[locations.type != 'other']\n",
    "locations = locations[locations.type != 'unknown']\n",
    "locations.reset_index(drop=True, inplace=True)\n",
    "locations.to_csv('locations.csv')"
   ]
  },
  {
   "cell_type": "code",
   "execution_count": 153,
   "id": "b572b70e",
   "metadata": {},
   "outputs": [],
   "source": [
    "from sklearn.model_selection import train_test_split\n",
    "from sklearn.neighbors import KNeighborsClassifier\n",
    "\n",
    "def knnTest(k, locations):\n",
    "    x = locations[['latitude', 'longitude']]\n",
    "    y = locations['type']\n",
    "    X_train, X_test, y_train, y_test = train_test_split(x, y, test_size=0.3, random_state=42, shuffle=True)\n",
    "    knn = KNeighborsClassifier(n_neighbors = k)\n",
    "    knn.fit(X_train, y_train)\n",
    "    Y_pred = knn.predict(X_test)\n",
    "    acc_knn = round(knn.score(X_test, y_test) * 100, 2)\n",
    "    return acc_knn"
   ]
  },
  {
   "cell_type": "code",
   "execution_count": 154,
   "id": "459fa9da",
   "metadata": {},
   "outputs": [
    {
     "name": "stdout",
     "output_type": "stream",
     "text": [
      "     value_of_k  result_of_knn\n",
      "0            -1          -1.00\n",
      "1             4          12.41\n",
      "2             5          15.55\n",
      "3             6          17.02\n",
      "4             7          17.56\n",
      "..          ...            ...\n",
      "145         148          23.52\n",
      "146         149          23.57\n",
      "147         150          23.56\n",
      "148         151          23.53\n",
      "149         152          23.53\n",
      "\n",
      "[150 rows x 2 columns]\n"
     ]
    }
   ],
   "source": [
    "locations['type'] = pd.to_numeric(locations['type'])\n",
    "\n",
    "value_of_k = [-1] * 150\n",
    "result_of_knn = [-1] * 150 \n",
    "all_results = pd.DataFrame({'value_of_k':value_of_k,'result_of_knn':result_of_knn})\n",
    "\n",
    "for i in range(1,150):\n",
    "    all_results.loc[(i),\"value_of_k\"]=(i+3)\n",
    "    all_results.loc[(i),\"result_of_knn\"]= knnTest(i, locations)\n",
    "    \n",
    "print(all_results)"
   ]
  },
  {
   "cell_type": "code",
   "execution_count": 155,
   "id": "d4f6a4a3",
   "metadata": {},
   "outputs": [],
   "source": [
    "all_results = all_results.drop([all_results.index[0]])\n",
    "all_results.to_csv('Data/knn_results.csv')"
   ]
  },
  {
   "cell_type": "code",
   "execution_count": 157,
   "id": "6f9ad5ee",
   "metadata": {},
   "outputs": [
    {
     "name": "stderr",
     "output_type": "stream",
     "text": [
      "/Users/eaalthoff/opt/anaconda3/lib/python3.7/site-packages/ipykernel_launcher.py:5: SettingWithCopyWarning: \n",
      "A value is trying to be set on a copy of a slice from a DataFrame.\n",
      "Try using .loc[row_indexer,col_indexer] = value instead\n",
      "\n",
      "See the caveats in the documentation: https://pandas.pydata.org/pandas-docs/stable/user_guide/indexing.html#returning-a-view-versus-a-copy\n",
      "  \"\"\"\n"
     ]
    },
    {
     "data": {
      "text/plain": [
       "seconds       string\n",
       "hours_mins    string\n",
       "dtype: object"
      ]
     },
     "execution_count": 157,
     "metadata": {},
     "output_type": "execute_result"
    }
   ],
   "source": [
    "tempDF = ufos_main[['seconds', 'hours_mins']]\n",
    "time = pd.DataFrame(columns = ['time'])\n",
    "time_type = [0] * len(tempDF.hours_mins) #0 and 28 are out of bounds and will be easy to omit if not filled\n",
    "ufo_type = [28] * len(tempDF.hours_mins) #these are temp lists that will go into temp df that will go into a larger df\n",
    "tempDF['hours_mins'] = pd.Series(tempDF['hours_mins'], dtype=\"string\") \n",
    "\n",
    "tempDF.dtypes"
   ]
  },
  {
   "cell_type": "code",
   "execution_count": 158,
   "id": "0e94a43b",
   "metadata": {},
   "outputs": [
    {
     "name": "stdout",
     "output_type": "stream",
     "text": [
      "0        45 minutes\n",
      "2        20 seconds\n",
      "3          1/2 hour\n",
      "4        15 minutes\n",
      "5         5 minutes\n",
      "            ...    \n",
      "80327    10 minutes\n",
      "80328    20 minutes\n",
      "80329          hour\n",
      "80330     5 seconds\n",
      "80331    17 minutes\n",
      "Name: hours_mins, Length: 70662, dtype: string\n"
     ]
    }
   ],
   "source": [
    "print(tempDF.hours_mins) #this data is an absolute mess"
   ]
  },
  {
   "cell_type": "code",
   "execution_count": 159,
   "id": "488c7876",
   "metadata": {},
   "outputs": [
    {
     "ename": "KeyError",
     "evalue": "1",
     "output_type": "error",
     "traceback": [
      "\u001b[0;31m---------------------------------------------------------------------------\u001b[0m",
      "\u001b[0;31mKeyError\u001b[0m                                  Traceback (most recent call last)",
      "\u001b[0;32m~/opt/anaconda3/lib/python3.7/site-packages/pandas/core/indexes/base.py\u001b[0m in \u001b[0;36mget_loc\u001b[0;34m(self, key, method, tolerance)\u001b[0m\n\u001b[1;32m   3360\u001b[0m             \u001b[0;32mtry\u001b[0m\u001b[0;34m:\u001b[0m\u001b[0;34m\u001b[0m\u001b[0;34m\u001b[0m\u001b[0m\n\u001b[0;32m-> 3361\u001b[0;31m                 \u001b[0;32mreturn\u001b[0m \u001b[0mself\u001b[0m\u001b[0;34m.\u001b[0m\u001b[0m_engine\u001b[0m\u001b[0;34m.\u001b[0m\u001b[0mget_loc\u001b[0m\u001b[0;34m(\u001b[0m\u001b[0mcasted_key\u001b[0m\u001b[0;34m)\u001b[0m\u001b[0;34m\u001b[0m\u001b[0;34m\u001b[0m\u001b[0m\n\u001b[0m\u001b[1;32m   3362\u001b[0m             \u001b[0;32mexcept\u001b[0m \u001b[0mKeyError\u001b[0m \u001b[0;32mas\u001b[0m \u001b[0merr\u001b[0m\u001b[0;34m:\u001b[0m\u001b[0;34m\u001b[0m\u001b[0;34m\u001b[0m\u001b[0m\n",
      "\u001b[0;32m~/opt/anaconda3/lib/python3.7/site-packages/pandas/_libs/index.pyx\u001b[0m in \u001b[0;36mpandas._libs.index.IndexEngine.get_loc\u001b[0;34m()\u001b[0m\n",
      "\u001b[0;32m~/opt/anaconda3/lib/python3.7/site-packages/pandas/_libs/index.pyx\u001b[0m in \u001b[0;36mpandas._libs.index.IndexEngine.get_loc\u001b[0;34m()\u001b[0m\n",
      "\u001b[0;32mpandas/_libs/hashtable_class_helper.pxi\u001b[0m in \u001b[0;36mpandas._libs.hashtable.Int64HashTable.get_item\u001b[0;34m()\u001b[0m\n",
      "\u001b[0;32mpandas/_libs/hashtable_class_helper.pxi\u001b[0m in \u001b[0;36mpandas._libs.hashtable.Int64HashTable.get_item\u001b[0;34m()\u001b[0m\n",
      "\u001b[0;31mKeyError\u001b[0m: 1",
      "\nThe above exception was the direct cause of the following exception:\n",
      "\u001b[0;31mKeyError\u001b[0m                                  Traceback (most recent call last)",
      "\u001b[0;32m/var/folders/gf/2twgyv21605f3cmj4nv6227c0000gn/T/ipykernel_36561/1865633969.py\u001b[0m in \u001b[0;36m<module>\u001b[0;34m\u001b[0m\n\u001b[1;32m      6\u001b[0m \u001b[0;34m\u001b[0m\u001b[0m\n\u001b[1;32m      7\u001b[0m \u001b[0;32mfor\u001b[0m \u001b[0mx\u001b[0m \u001b[0;32min\u001b[0m \u001b[0mrange\u001b[0m\u001b[0;34m(\u001b[0m\u001b[0;36m0\u001b[0m\u001b[0;34m,\u001b[0m\u001b[0;36m60000\u001b[0m\u001b[0;34m)\u001b[0m\u001b[0;34m:\u001b[0m\u001b[0;31m#can say len(tempDF.hours_mins)\u001b[0m\u001b[0;34m\u001b[0m\u001b[0;34m\u001b[0m\u001b[0m\n\u001b[0;32m----> 8\u001b[0;31m     \u001b[0mi\u001b[0m \u001b[0;34m=\u001b[0m \u001b[0mtempDF\u001b[0m\u001b[0;34m.\u001b[0m\u001b[0mhours_mins\u001b[0m\u001b[0;34m[\u001b[0m\u001b[0mx\u001b[0m\u001b[0;34m]\u001b[0m\u001b[0;34m\u001b[0m\u001b[0;34m\u001b[0m\u001b[0m\n\u001b[0m\u001b[1;32m      9\u001b[0m     \u001b[0mi\u001b[0m \u001b[0;34m=\u001b[0m \u001b[0mi\u001b[0m\u001b[0;34m.\u001b[0m\u001b[0mreplace\u001b[0m\u001b[0;34m(\u001b[0m\u001b[0;34m\".\"\u001b[0m\u001b[0;34m,\u001b[0m \u001b[0;34m\"\"\u001b[0m\u001b[0;34m)\u001b[0m\u001b[0;34m\u001b[0m\u001b[0;34m\u001b[0m\u001b[0m\n\u001b[1;32m     10\u001b[0m     \u001b[0mi\u001b[0m \u001b[0;34m=\u001b[0m \u001b[0mi\u001b[0m\u001b[0;34m.\u001b[0m\u001b[0mreplace\u001b[0m\u001b[0;34m(\u001b[0m\u001b[0;34m\"+\"\u001b[0m\u001b[0;34m,\u001b[0m \u001b[0;34m\"\"\u001b[0m\u001b[0;34m)\u001b[0m\u001b[0;34m\u001b[0m\u001b[0;34m\u001b[0m\u001b[0m\n",
      "\u001b[0;32m~/opt/anaconda3/lib/python3.7/site-packages/pandas/core/series.py\u001b[0m in \u001b[0;36m__getitem__\u001b[0;34m(self, key)\u001b[0m\n\u001b[1;32m    940\u001b[0m \u001b[0;34m\u001b[0m\u001b[0m\n\u001b[1;32m    941\u001b[0m         \u001b[0;32melif\u001b[0m \u001b[0mkey_is_scalar\u001b[0m\u001b[0;34m:\u001b[0m\u001b[0;34m\u001b[0m\u001b[0;34m\u001b[0m\u001b[0m\n\u001b[0;32m--> 942\u001b[0;31m             \u001b[0;32mreturn\u001b[0m \u001b[0mself\u001b[0m\u001b[0;34m.\u001b[0m\u001b[0m_get_value\u001b[0m\u001b[0;34m(\u001b[0m\u001b[0mkey\u001b[0m\u001b[0;34m)\u001b[0m\u001b[0;34m\u001b[0m\u001b[0;34m\u001b[0m\u001b[0m\n\u001b[0m\u001b[1;32m    943\u001b[0m \u001b[0;34m\u001b[0m\u001b[0m\n\u001b[1;32m    944\u001b[0m         \u001b[0;32mif\u001b[0m \u001b[0mis_hashable\u001b[0m\u001b[0;34m(\u001b[0m\u001b[0mkey\u001b[0m\u001b[0;34m)\u001b[0m\u001b[0;34m:\u001b[0m\u001b[0;34m\u001b[0m\u001b[0;34m\u001b[0m\u001b[0m\n",
      "\u001b[0;32m~/opt/anaconda3/lib/python3.7/site-packages/pandas/core/series.py\u001b[0m in \u001b[0;36m_get_value\u001b[0;34m(self, label, takeable)\u001b[0m\n\u001b[1;32m   1049\u001b[0m \u001b[0;34m\u001b[0m\u001b[0m\n\u001b[1;32m   1050\u001b[0m         \u001b[0;31m# Similar to Index.get_value, but we do not fall back to positional\u001b[0m\u001b[0;34m\u001b[0m\u001b[0;34m\u001b[0m\u001b[0;34m\u001b[0m\u001b[0m\n\u001b[0;32m-> 1051\u001b[0;31m         \u001b[0mloc\u001b[0m \u001b[0;34m=\u001b[0m \u001b[0mself\u001b[0m\u001b[0;34m.\u001b[0m\u001b[0mindex\u001b[0m\u001b[0;34m.\u001b[0m\u001b[0mget_loc\u001b[0m\u001b[0;34m(\u001b[0m\u001b[0mlabel\u001b[0m\u001b[0;34m)\u001b[0m\u001b[0;34m\u001b[0m\u001b[0;34m\u001b[0m\u001b[0m\n\u001b[0m\u001b[1;32m   1052\u001b[0m         \u001b[0;32mreturn\u001b[0m \u001b[0mself\u001b[0m\u001b[0;34m.\u001b[0m\u001b[0mindex\u001b[0m\u001b[0;34m.\u001b[0m\u001b[0m_get_values_for_loc\u001b[0m\u001b[0;34m(\u001b[0m\u001b[0mself\u001b[0m\u001b[0;34m,\u001b[0m \u001b[0mloc\u001b[0m\u001b[0;34m,\u001b[0m \u001b[0mlabel\u001b[0m\u001b[0;34m)\u001b[0m\u001b[0;34m\u001b[0m\u001b[0;34m\u001b[0m\u001b[0m\n\u001b[1;32m   1053\u001b[0m \u001b[0;34m\u001b[0m\u001b[0m\n",
      "\u001b[0;32m~/opt/anaconda3/lib/python3.7/site-packages/pandas/core/indexes/base.py\u001b[0m in \u001b[0;36mget_loc\u001b[0;34m(self, key, method, tolerance)\u001b[0m\n\u001b[1;32m   3361\u001b[0m                 \u001b[0;32mreturn\u001b[0m \u001b[0mself\u001b[0m\u001b[0;34m.\u001b[0m\u001b[0m_engine\u001b[0m\u001b[0;34m.\u001b[0m\u001b[0mget_loc\u001b[0m\u001b[0;34m(\u001b[0m\u001b[0mcasted_key\u001b[0m\u001b[0;34m)\u001b[0m\u001b[0;34m\u001b[0m\u001b[0;34m\u001b[0m\u001b[0m\n\u001b[1;32m   3362\u001b[0m             \u001b[0;32mexcept\u001b[0m \u001b[0mKeyError\u001b[0m \u001b[0;32mas\u001b[0m \u001b[0merr\u001b[0m\u001b[0;34m:\u001b[0m\u001b[0;34m\u001b[0m\u001b[0;34m\u001b[0m\u001b[0m\n\u001b[0;32m-> 3363\u001b[0;31m                 \u001b[0;32mraise\u001b[0m \u001b[0mKeyError\u001b[0m\u001b[0;34m(\u001b[0m\u001b[0mkey\u001b[0m\u001b[0;34m)\u001b[0m \u001b[0;32mfrom\u001b[0m \u001b[0merr\u001b[0m\u001b[0;34m\u001b[0m\u001b[0;34m\u001b[0m\u001b[0m\n\u001b[0m\u001b[1;32m   3364\u001b[0m \u001b[0;34m\u001b[0m\u001b[0m\n\u001b[1;32m   3365\u001b[0m         \u001b[0;32mif\u001b[0m \u001b[0mis_scalar\u001b[0m\u001b[0;34m(\u001b[0m\u001b[0mkey\u001b[0m\u001b[0;34m)\u001b[0m \u001b[0;32mand\u001b[0m \u001b[0misna\u001b[0m\u001b[0;34m(\u001b[0m\u001b[0mkey\u001b[0m\u001b[0;34m)\u001b[0m \u001b[0;32mand\u001b[0m \u001b[0;32mnot\u001b[0m \u001b[0mself\u001b[0m\u001b[0;34m.\u001b[0m\u001b[0mhasnans\u001b[0m\u001b[0;34m:\u001b[0m\u001b[0;34m\u001b[0m\u001b[0;34m\u001b[0m\u001b[0m\n",
      "\u001b[0;31mKeyError\u001b[0m: 1"
     ]
    }
   ],
   "source": [
    "secs = 0\n",
    "mins = 0\n",
    "hrs = 0\n",
    "count = 0\n",
    "i = \"a\"\n",
    "\n",
    "for x in range(0,60000):#can say len(tempDF.hours_mins)\n",
    "    i = tempDF.hours_mins[x]\n",
    "    i = i.replace(\".\", \"\")\n",
    "    i = i.replace(\"+\", \"\")\n",
    "    i = i.replace(\"<\", \"\")\n",
    "    i = i.replace(\"?\", \"\")\n",
    "    i = i.replace(\">\", \"\")\n",
    "    i = i.replace(\"about\", \"\")\n",
    "    i = i.replace(\"a few\", \"5\")\n",
    "    i = i.replace(\"few\", \"5\")\n",
    "    i = i.replace(\"under\", \"\")\n",
    "    i = i.replace(\"several\", \"10\")\n",
    "    i = i.replace(\"more\", \"5\")\n",
    "    i = i.replace(\"couple\", \"2\")\n",
    "    i = i.replace(\"~\", \"\")\n",
    "    i = i.replace(\"~\", \"\")\n",
    "    i = i.replace(\"approx\", \"\")\n",
    "    i = i.replace(\"or\", \"-\")#easy values to get rid of to start processing\n",
    "    if \"seconds\" in i: #check if recorded in seconds(if substring in string)\n",
    "        if(i[0].isdigit() == True and i[1].isdigit() == True): #if they are both digits record the value\n",
    "            secs = int(i[0] + i[1])\n",
    "            secs = secs*60 #going to record everything in minutes\n",
    "            secs = round(secs,2)\n",
    "            time_type[count] = secs #recording the time\n",
    "            ufo_type[count] = locations.type[count] #recording the ufo\n",
    "    elif \"minute\" in i:#check if recorded in minutes\n",
    "        if(i[0].isdigit() == True and i[1].isdigit() == True):#if they are both digits record the value\n",
    "            mins = int(i[0] + i[1]) #same as seconds, but not multiplying by 60\n",
    "            mins = round(mins,2)\n",
    "            time_type[count] = mins\n",
    "            ufo_type[count] = locations.type[count]\n",
    "    elif \"hour\" in i:#check if recorded in hours\n",
    "        if(i[0].isdigit() == True and i[1].isdigit() == True):#if they are both digits record the value\n",
    "            hrs = int(i[0] + i[1])#divide by zero error\n",
    "            if(hrs != 0):\n",
    "                hrs = hrs/60\n",
    "            hrs = round(hrs,2)\n",
    "            time_type[count] = hrs\n",
    "            ufo_type[count] = locations.type[count]\n",
    "    count+=1#count is different from i, count is place of tempdf, not everything is going in tempdf because some rows are not useful\n",
    "\n",
    "df_length = 5000 #arbitrary, can change anytime, but for testing over and over leave at around 5k for run time\n",
    "    \n",
    "ufotypes = [-1] * df_length #just to fill the time df to be used for regression\n",
    "durations = [-1] * df_length\n",
    "timeOfDay = [-1] * df_length\n",
    "ufo_time_data = pd.DataFrame({'ufos':ufotypes,'duration_of_sighting':durations, 'time_of_day':timeOfDay})\n",
    "\n",
    "index = 0\n",
    "\n",
    "for count in range(0,10000): #Remember to change if change df_length, but not every value is useful so cannot be max\n",
    "     if(ufo_type[count] != 28 and time_type[count] != 0):#the easy values to get rid of \n",
    "        ufo_time_data.loc[index,\"ufos\"]=ufo_type[count] #filling \n",
    "        ufo_time_data.loc[index,\"duration_of_sighting\"]=time_type[count]\n",
    "        hours = ufos_main.datetime[count][-5:-3]#for time of day in military time\n",
    "        minutes = ufos_main.datetime[count][-2:]\n",
    "        time = hours+minutes#string concat\n",
    "        intTime = int(time)\n",
    "        ufo_time_data.loc[index,\"time_of_day\"]=intTime\n",
    "        index+=1\n",
    "\n",
    "toOmit = 0 #will change depending on df_length so no need to change here\n",
    "for i in ufo_time_data.time_of_day:\n",
    "    if i == -1:\n",
    "        toOmit+=1 #finds how many were not filled\n",
    "\n",
    "toKeep = df_length-toOmit #will find the last instance of the good value and get rid of the rest\n",
    "ufotypes = [-1] * toKeep\n",
    "durations = [-1] * toKeep\n",
    "timeOfDay = [-1] * toKeep\n",
    "ufo_time_df = pd.DataFrame({'ufos':ufotypes,'duration_of_sighting':durations, 'time_of_day':timeOfDay})\n",
    "\n",
    "for i in range(0,toKeep):\n",
    "    ufo_time_df.loc[i,\"ufos\"]=ufo_time_data.ufos[i]\n",
    "    ufo_time_df.loc[i,\"duration_of_sighting\"]=ufo_time_data.duration_of_sighting[i]\n",
    "    ufo_time_df.loc[i,\"time_of_day\"]=ufo_time_data.time_of_day[i]\n",
    "    \n",
    "ufo_time_df.head()"
   ]
  },
  {
   "cell_type": "code",
   "execution_count": null,
   "id": "bd00f576",
   "metadata": {},
   "outputs": [],
   "source": [
    "for i in range(0,len(ufo_time_df['time_of_day'])):\n",
    "    if(ufo_time_df.time_of_day[i] < 1200):\n",
    "        ufo_time_df.time_of_day[i] = ufo_time_df.time_of_day[i] + 2400\n",
    "for i in range(0,len(ufo_time_df['time_of_day'])):\n",
    "    ufo_time_df.time_of_day[i] = ufo_time_df.time_of_day[i] - 1200\n"
   ]
  },
  {
   "cell_type": "code",
   "execution_count": null,
   "id": "652c0525",
   "metadata": {},
   "outputs": [],
   "source": [
    "ufo_time_df.to_csv('Data/times_and_sightings.csv')"
   ]
  },
  {
   "cell_type": "code",
   "execution_count": null,
   "id": "df3685ee",
   "metadata": {},
   "outputs": [],
   "source": [
    "import seaborn as sns\n",
    "states_us = ufos_main[ufos_main.country == \"us\"][\"state\"].value_counts().index\n",
    "states_ratio = ufos_main[ufos_main.country == \"us\"][\"state\"].value_counts().values\n",
    "states_us = [i.upper() for i in states_us]\n",
    "\n",
    "us_state_sightings = pd.DataFrame({'states':states_us,'sightings':states_ratio})"
   ]
  },
  {
   "cell_type": "code",
   "execution_count": null,
   "id": "dffd48ac",
   "metadata": {},
   "outputs": [],
   "source": [
    "us_state_sightings.to_csv('Data/states_sightings.csv')"
   ]
  },
  {
   "cell_type": "code",
   "execution_count": null,
   "id": "39e95370",
   "metadata": {},
   "outputs": [],
   "source": [
    "ufos_main = ufos_main.dropna()\n",
    "ufos_main.drop(ufos_main[ufos_main['UFOtype'] == 'other'].index, inplace = True)\n",
    "ufos_main.drop(ufos_main[ufos_main['UFOtype'] == 'unknown'].index, inplace = True)\n",
    "\n",
    "uniqueUFOs = ufos_main.UFOtype.unique()\n",
    "count = [0] * len(uniqueUFOs) \n",
    "j = 0\n",
    "\n",
    "for i in uniqueUFOs:\n",
    "    count[j] = (ufos_main['UFOtype']==i).sum()\n",
    "    j+=1\n",
    "\n",
    "sightingCounts = pd.DataFrame({'ufo':uniqueUFOs,'count':count})\n",
    "sightingCounts.to_csv('Data/sighting_counts.csv')"
   ]
  },
  {
   "cell_type": "code",
   "execution_count": null,
   "id": "a0398f9d",
   "metadata": {},
   "outputs": [],
   "source": []
  },
  {
   "cell_type": "code",
   "execution_count": null,
   "id": "03869fa9",
   "metadata": {},
   "outputs": [],
   "source": []
  }
 ],
 "metadata": {
  "kernelspec": {
   "display_name": "Python 3 (ipykernel)",
   "language": "python",
   "name": "python3"
  },
  "language_info": {
   "codemirror_mode": {
    "name": "ipython",
    "version": 3
   },
   "file_extension": ".py",
   "mimetype": "text/x-python",
   "name": "python",
   "nbconvert_exporter": "python",
   "pygments_lexer": "ipython3",
   "version": "3.7.13"
  }
 },
 "nbformat": 4,
 "nbformat_minor": 5
}
