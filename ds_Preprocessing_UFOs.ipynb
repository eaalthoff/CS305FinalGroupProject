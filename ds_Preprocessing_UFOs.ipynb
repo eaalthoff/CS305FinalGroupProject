{
 "cells": [
  {
   "cell_type": "markdown",
   "id": "dbd22385",
   "metadata": {},
   "source": [
    "## Let's look at aliens\n",
    "\n",
    "Source of data (Kaggle): https://www.kaggle.com/code/dhruvkalia/ufo-sightings-dbscan/data"
   ]
  },
  {
   "cell_type": "code",
   "execution_count": 189,
   "id": "546af497",
   "metadata": {},
   "outputs": [
    {
     "data": {
      "text/html": [
       "<div>\n",
       "<style scoped>\n",
       "    .dataframe tbody tr th:only-of-type {\n",
       "        vertical-align: middle;\n",
       "    }\n",
       "\n",
       "    .dataframe tbody tr th {\n",
       "        vertical-align: top;\n",
       "    }\n",
       "\n",
       "    .dataframe thead th {\n",
       "        text-align: right;\n",
       "    }\n",
       "</style>\n",
       "<table border=\"1\" class=\"dataframe\">\n",
       "  <thead>\n",
       "    <tr style=\"text-align: right;\">\n",
       "      <th></th>\n",
       "      <th>datetime</th>\n",
       "      <th>city</th>\n",
       "      <th>state</th>\n",
       "      <th>country</th>\n",
       "      <th>UFOtype</th>\n",
       "      <th>seconds</th>\n",
       "      <th>hours_mins</th>\n",
       "      <th>comments</th>\n",
       "      <th>posted</th>\n",
       "      <th>latitude</th>\n",
       "      <th>longitude</th>\n",
       "    </tr>\n",
       "  </thead>\n",
       "  <tbody>\n",
       "    <tr>\n",
       "      <th>0</th>\n",
       "      <td>10/10/1949 20:30</td>\n",
       "      <td>san marcos</td>\n",
       "      <td>tx</td>\n",
       "      <td>us</td>\n",
       "      <td>cylinder</td>\n",
       "      <td>2700</td>\n",
       "      <td>45 minutes</td>\n",
       "      <td>This event took place in early fall around 194...</td>\n",
       "      <td>4/27/2004</td>\n",
       "      <td>29.8830556</td>\n",
       "      <td>-97.941111</td>\n",
       "    </tr>\n",
       "    <tr>\n",
       "      <th>1</th>\n",
       "      <td>10/10/1949 21:00</td>\n",
       "      <td>lackland afb</td>\n",
       "      <td>tx</td>\n",
       "      <td>NaN</td>\n",
       "      <td>light</td>\n",
       "      <td>7200</td>\n",
       "      <td>1-2 hrs</td>\n",
       "      <td>1949 Lackland AFB&amp;#44 TX.  Lights racing acros...</td>\n",
       "      <td>12/16/2005</td>\n",
       "      <td>29.38421</td>\n",
       "      <td>-98.581082</td>\n",
       "    </tr>\n",
       "    <tr>\n",
       "      <th>2</th>\n",
       "      <td>10/10/1955 17:00</td>\n",
       "      <td>chester (uk/england)</td>\n",
       "      <td>NaN</td>\n",
       "      <td>gb</td>\n",
       "      <td>circle</td>\n",
       "      <td>20</td>\n",
       "      <td>20 seconds</td>\n",
       "      <td>Green/Orange circular disc over Chester&amp;#44 En...</td>\n",
       "      <td>1/21/2008</td>\n",
       "      <td>53.2</td>\n",
       "      <td>-2.916667</td>\n",
       "    </tr>\n",
       "    <tr>\n",
       "      <th>3</th>\n",
       "      <td>10/10/1956 21:00</td>\n",
       "      <td>edna</td>\n",
       "      <td>tx</td>\n",
       "      <td>us</td>\n",
       "      <td>circle</td>\n",
       "      <td>20</td>\n",
       "      <td>1/2 hour</td>\n",
       "      <td>My older brother and twin sister were leaving ...</td>\n",
       "      <td>1/17/2004</td>\n",
       "      <td>28.9783333</td>\n",
       "      <td>-96.645833</td>\n",
       "    </tr>\n",
       "    <tr>\n",
       "      <th>4</th>\n",
       "      <td>10/10/1960 20:00</td>\n",
       "      <td>kaneohe</td>\n",
       "      <td>hi</td>\n",
       "      <td>us</td>\n",
       "      <td>light</td>\n",
       "      <td>900</td>\n",
       "      <td>15 minutes</td>\n",
       "      <td>AS a Marine 1st Lt. flying an FJ4B fighter/att...</td>\n",
       "      <td>1/22/2004</td>\n",
       "      <td>21.4180556</td>\n",
       "      <td>-157.803611</td>\n",
       "    </tr>\n",
       "  </tbody>\n",
       "</table>\n",
       "</div>"
      ],
      "text/plain": [
       "           datetime                  city state country   UFOtype seconds  \\\n",
       "0  10/10/1949 20:30            san marcos    tx      us  cylinder    2700   \n",
       "1  10/10/1949 21:00          lackland afb    tx     NaN     light    7200   \n",
       "2  10/10/1955 17:00  chester (uk/england)   NaN      gb    circle      20   \n",
       "3  10/10/1956 21:00                  edna    tx      us    circle      20   \n",
       "4  10/10/1960 20:00               kaneohe    hi      us     light     900   \n",
       "\n",
       "   hours_mins                                           comments      posted  \\\n",
       "0  45 minutes  This event took place in early fall around 194...   4/27/2004   \n",
       "1     1-2 hrs  1949 Lackland AFB&#44 TX.  Lights racing acros...  12/16/2005   \n",
       "2  20 seconds  Green/Orange circular disc over Chester&#44 En...   1/21/2008   \n",
       "3    1/2 hour  My older brother and twin sister were leaving ...   1/17/2004   \n",
       "4  15 minutes  AS a Marine 1st Lt. flying an FJ4B fighter/att...   1/22/2004   \n",
       "\n",
       "     latitude   longitude  \n",
       "0  29.8830556  -97.941111  \n",
       "1    29.38421  -98.581082  \n",
       "2        53.2   -2.916667  \n",
       "3  28.9783333  -96.645833  \n",
       "4  21.4180556 -157.803611  "
      ]
     },
     "execution_count": 189,
     "metadata": {},
     "output_type": "execute_result"
    }
   ],
   "source": [
    "import numpy as np\n",
    "import pandas as pd\n",
    "import matplotlib.pyplot as plt\n",
    "\n",
    "tempDF = pd.read_csv(\"Data/scrubbed.csv\", low_memory=False) #make sure to use scrubbed\n",
    "ufos_main = tempDF.rename({'shape': 'UFOtype', 'duration (seconds)': 'seconds', 'duration (hours/min)': 'hours_mins', 'date posted': 'posted', 'longitude ': 'longitude'}, axis=1)\n",
    "ufos_main.head()"
   ]
  },
  {
   "cell_type": "code",
   "execution_count": 190,
   "id": "bcee6717",
   "metadata": {},
   "outputs": [
    {
     "data": {
      "text/plain": [
       "datetime       object\n",
       "city           object\n",
       "state          object\n",
       "country        object\n",
       "UFOtype        object\n",
       "seconds        object\n",
       "hours_mins     object\n",
       "comments       object\n",
       "posted         object\n",
       "latitude      float64\n",
       "longitude     float64\n",
       "dtype: object"
      ]
     },
     "execution_count": 190,
     "metadata": {},
     "output_type": "execute_result"
    }
   ],
   "source": [
    "#Latitude was an object, but longitude is already a float\n",
    "ufos_main['latitude'] = pd.to_numeric(ufos_main['latitude'],errors = 'coerce')\n",
    "ufos_main.dtypes\n",
    "ufos_main.dtypes"
   ]
  },
  {
   "cell_type": "code",
   "execution_count": 191,
   "id": "21f5e24c",
   "metadata": {},
   "outputs": [
    {
     "data": {
      "text/plain": [
       "latitude     float64\n",
       "longitude    float64\n",
       "type          object\n",
       "dtype: object"
      ]
     },
     "execution_count": 191,
     "metadata": {},
     "output_type": "execute_result"
    }
   ],
   "source": [
    "locations = pd.DataFrame({'latitude':ufos_main.latitude,'longitude':ufos_main.longitude,'type':ufos_main.UFOtype})\n",
    "locations.dtypes"
   ]
  },
  {
   "cell_type": "code",
   "execution_count": 192,
   "id": "bb871561",
   "metadata": {},
   "outputs": [],
   "source": [
    "locationsCP=locations.copy()\n",
    "locationsCP = locationsCP.dropna()\n",
    "locationsCP.reset_index(drop=True, inplace=True)\n",
    "\n",
    "locations.type = [0 if element == 'cylinder' else element for element in locations.type]\n",
    "locations.type = [1 if element == 'light' else element for element in locations.type]\n",
    "locations.type = [2 if element == 'circle' else element for element in locations.type]\n",
    "locations.type = [3 if element == 'sphere' else element for element in locations.type]\n",
    "locations.type = [4 if element == 'disk' else element for element in locations.type]\n",
    "locations.type = [5 if element == 'fireball' else element for element in locations.type]\n",
    "locations.type = [6 if element == 'oval' else element for element in locations.type]\n",
    "locations.type = [7 if element == 'cigar' else element for element in locations.type]\n",
    "locations.type = [8 if element == 'rectangle' else element for element in locations.type]\n",
    "locations.type = [9 if element == 'chevron' else element for element in locations.type]\n",
    "locations.type = [10 if element == 'triangle' else element for element in locations.type]\n",
    "locations.type = [11 if element == 'formation' else element for element in locations.type]\n",
    "locations.type = [12 if element == 'delta' else element for element in locations.type]\n",
    "locations.type = [13 if element == 'changing' else element for element in locations.type]\n",
    "locations.type = [14 if element == 'egg' else element for element in locations.type]\n",
    "locations.type = [15 if element == 'diamond' else element for element in locations.type]\n",
    "locations.type = [16 if element == 'flash' else element for element in locations.type]\n",
    "locations.type = [17 if element == 'teardrop' else element for element in locations.type]\n",
    "locations.type = [18 if element == 'cone' else element for element in locations.type]\n",
    "locations.type = [19 if element == 'cross' else element for element in locations.type]\n",
    "locations.type = [20 if element == 'pyramid' else element for element in locations.type]\n",
    "locations.type = [21 if element == 'round' else element for element in locations.type]\n",
    "locations.type = [22 if element == 'crescent' else element for element in locations.type]\n",
    "locations.type = [23 if element == 'flare' else element for element in locations.type]\n",
    "locations.type = [24 if element == 'hexagon' else element for element in locations.type]\n",
    "locations.type = [25 if element == 'dome' else element for element in locations.type]\n",
    "locations.type = [26 if element == 'changed' else element for element in locations.type]\n",
    "\n",
    "\n",
    "locations = locations.dropna()\n",
    "locations = locations[locations.type != 'other']\n",
    "locations = locations[locations.type != 'unknown']\n",
    "locations.reset_index(drop=True, inplace=True)\n",
    "\n",
    "locationsCP.to_csv('locations.csv')"
   ]
  },
  {
   "cell_type": "code",
   "execution_count": 164,
   "id": "b572b70e",
   "metadata": {},
   "outputs": [],
   "source": [
    "from sklearn.model_selection import train_test_split\n",
    "from sklearn.neighbors import KNeighborsClassifier\n",
    "\n",
    "def knnTest(k, locations):\n",
    "    x = locations[['latitude', 'longitude']]\n",
    "    y = locations['type']\n",
    "    X_train, X_test, y_train, y_test = train_test_split(x, y, test_size=0.3, random_state=42, shuffle=True)\n",
    "    knn = KNeighborsClassifier(n_neighbors = k)\n",
    "    knn.fit(X_train, y_train)\n",
    "    Y_pred = knn.predict(X_test)\n",
    "    acc_knn = round(knn.score(X_test, y_test) * 100, 2)\n",
    "    return acc_knn"
   ]
  },
  {
   "cell_type": "code",
   "execution_count": 165,
   "id": "459fa9da",
   "metadata": {},
   "outputs": [
    {
     "name": "stdout",
     "output_type": "stream",
     "text": [
      "     value_of_k  result_of_knn\n",
      "0            -1          -1.00\n",
      "1             4          12.88\n",
      "2             5          16.29\n",
      "3             6          17.70\n",
      "4             7          18.01\n",
      "..          ...            ...\n",
      "145         148          24.47\n",
      "146         149          24.44\n",
      "147         150          24.48\n",
      "148         151          24.48\n",
      "149         152          24.49\n",
      "\n",
      "[150 rows x 2 columns]\n"
     ]
    }
   ],
   "source": [
    "locations['type'] = pd.to_numeric(locations['type'])\n",
    "\n",
    "value_of_k = [-1] * 150\n",
    "result_of_knn = [-1] * 150 \n",
    "all_results = pd.DataFrame({'value_of_k':value_of_k,'result_of_knn':result_of_knn})\n",
    "\n",
    "for i in range(1,150):\n",
    "    all_results.loc[(i),\"value_of_k\"]=(i+3)\n",
    "    all_results.loc[(i),\"result_of_knn\"]= knnTest(i, locations)\n",
    "    \n",
    "print(all_results)"
   ]
  },
  {
   "cell_type": "code",
   "execution_count": 166,
   "id": "d4f6a4a3",
   "metadata": {},
   "outputs": [],
   "source": [
    "all_results = all_results.drop([all_results.index[0]])\n",
    "all_results.to_csv('knn_results.csv')"
   ]
  },
  {
   "cell_type": "code",
   "execution_count": 167,
   "id": "6f9ad5ee",
   "metadata": {},
   "outputs": [
    {
     "name": "stderr",
     "output_type": "stream",
     "text": [
      "/Users/eaalthoff/opt/anaconda3/lib/python3.7/site-packages/ipykernel_launcher.py:5: SettingWithCopyWarning: \n",
      "A value is trying to be set on a copy of a slice from a DataFrame.\n",
      "Try using .loc[row_indexer,col_indexer] = value instead\n",
      "\n",
      "See the caveats in the documentation: https://pandas.pydata.org/pandas-docs/stable/user_guide/indexing.html#returning-a-view-versus-a-copy\n",
      "  \"\"\"\n"
     ]
    },
    {
     "data": {
      "text/plain": [
       "seconds       object\n",
       "hours_mins    string\n",
       "dtype: object"
      ]
     },
     "execution_count": 167,
     "metadata": {},
     "output_type": "execute_result"
    }
   ],
   "source": [
    "tempDF = ufos_main[['seconds', 'hours_mins']]\n",
    "time = pd.DataFrame(columns = ['time'])\n",
    "time_type = [0] * len(tempDF.hours_mins) #0 and 28 are out of bounds and will be easy to omit if not filled\n",
    "ufo_type = [28] * len(tempDF.hours_mins) #these are temp lists that will go into temp df that will go into a larger df\n",
    "tempDF['hours_mins'] = pd.Series(tempDF['hours_mins'], dtype=\"string\") \n",
    "\n",
    "tempDF.dtypes"
   ]
  },
  {
   "cell_type": "code",
   "execution_count": 168,
   "id": "0e94a43b",
   "metadata": {},
   "outputs": [
    {
     "name": "stdout",
     "output_type": "stream",
     "text": [
      "0        45 minutes\n",
      "1           1-2 hrs\n",
      "2        20 seconds\n",
      "3          1/2 hour\n",
      "4        15 minutes\n",
      "            ...    \n",
      "80327    10 minutes\n",
      "80328    20 minutes\n",
      "80329          hour\n",
      "80330     5 seconds\n",
      "80331    17 minutes\n",
      "Name: hours_mins, Length: 80332, dtype: string\n"
     ]
    }
   ],
   "source": [
    "print(tempDF.hours_mins) #this data is an absolute mess"
   ]
  },
  {
   "cell_type": "code",
   "execution_count": 169,
   "id": "488c7876",
   "metadata": {},
   "outputs": [
    {
     "data": {
      "text/html": [
       "<div>\n",
       "<style scoped>\n",
       "    .dataframe tbody tr th:only-of-type {\n",
       "        vertical-align: middle;\n",
       "    }\n",
       "\n",
       "    .dataframe tbody tr th {\n",
       "        vertical-align: top;\n",
       "    }\n",
       "\n",
       "    .dataframe thead th {\n",
       "        text-align: right;\n",
       "    }\n",
       "</style>\n",
       "<table border=\"1\" class=\"dataframe\">\n",
       "  <thead>\n",
       "    <tr style=\"text-align: right;\">\n",
       "      <th></th>\n",
       "      <th>ufos</th>\n",
       "      <th>duration_of_sighting</th>\n",
       "      <th>time_of_day</th>\n",
       "    </tr>\n",
       "  </thead>\n",
       "  <tbody>\n",
       "    <tr>\n",
       "      <th>0</th>\n",
       "      <td>0</td>\n",
       "      <td>45.0</td>\n",
       "      <td>2030</td>\n",
       "    </tr>\n",
       "    <tr>\n",
       "      <th>1</th>\n",
       "      <td>2</td>\n",
       "      <td>1200.0</td>\n",
       "      <td>1700</td>\n",
       "    </tr>\n",
       "    <tr>\n",
       "      <th>2</th>\n",
       "      <td>1</td>\n",
       "      <td>15.0</td>\n",
       "      <td>2000</td>\n",
       "    </tr>\n",
       "    <tr>\n",
       "      <th>3</th>\n",
       "      <td>4</td>\n",
       "      <td>20.0</td>\n",
       "      <td>2345</td>\n",
       "    </tr>\n",
       "    <tr>\n",
       "      <th>4</th>\n",
       "      <td>4</td>\n",
       "      <td>10.0</td>\n",
       "      <td>2100</td>\n",
       "    </tr>\n",
       "  </tbody>\n",
       "</table>\n",
       "</div>"
      ],
      "text/plain": [
       "   ufos  duration_of_sighting  time_of_day\n",
       "0     0                  45.0         2030\n",
       "1     2                1200.0         1700\n",
       "2     1                  15.0         2000\n",
       "3     4                  20.0         2345\n",
       "4     4                  10.0         2100"
      ]
     },
     "execution_count": 169,
     "metadata": {},
     "output_type": "execute_result"
    }
   ],
   "source": [
    "secs = 0\n",
    "mins = 0\n",
    "hrs = 0\n",
    "count = 0\n",
    "i = \"a\"\n",
    "\n",
    "for x in range(0,60000):#can say len(tempDF.hours_mins)\n",
    "    i = tempDF.hours_mins[x]\n",
    "    i = i.replace(\".\", \"\")\n",
    "    i = i.replace(\"+\", \"\")\n",
    "    i = i.replace(\"<\", \"\")\n",
    "    i = i.replace(\"?\", \"\")\n",
    "    i = i.replace(\">\", \"\")\n",
    "    i = i.replace(\"about\", \"\")\n",
    "    i = i.replace(\"a few\", \"5\")\n",
    "    i = i.replace(\"few\", \"5\")\n",
    "    i = i.replace(\"under\", \"\")\n",
    "    i = i.replace(\"several\", \"10\")\n",
    "    i = i.replace(\"more\", \"5\")\n",
    "    i = i.replace(\"couple\", \"2\")\n",
    "    i = i.replace(\"~\", \"\")\n",
    "    i = i.replace(\"~\", \"\")\n",
    "    i = i.replace(\"approx\", \"\")\n",
    "    i = i.replace(\"or\", \"-\")#easy values to get rid of to start processing\n",
    "    if \"seconds\" in i: #check if recorded in seconds(if substring in string)\n",
    "        if(i[0].isdigit() == True and i[1].isdigit() == True): #if they are both digits record the value\n",
    "            secs = int(i[0] + i[1])\n",
    "            secs = secs*60 #going to record everything in minutes\n",
    "            secs = round(secs,2)\n",
    "            time_type[count] = secs #recording the time\n",
    "            ufo_type[count] = locations.type[count] #recording the ufo\n",
    "    elif \"minute\" in i:#check if recorded in minutes\n",
    "        if(i[0].isdigit() == True and i[1].isdigit() == True):#if they are both digits record the value\n",
    "            mins = int(i[0] + i[1]) #same as seconds, but not multiplying by 60\n",
    "            mins = round(mins,2)\n",
    "            time_type[count] = mins\n",
    "            ufo_type[count] = locations.type[count]\n",
    "    elif \"hour\" in i:#check if recorded in hours\n",
    "        if(i[0].isdigit() == True and i[1].isdigit() == True):#if they are both digits record the value\n",
    "            hrs = int(i[0] + i[1])#divide by zero error\n",
    "            if(hrs != 0):\n",
    "                hrs = hrs/60\n",
    "            hrs = round(hrs,2)\n",
    "            time_type[count] = hrs\n",
    "            ufo_type[count] = locations.type[count]\n",
    "    count+=1#count is different from i, count is place of tempdf, not everything is going in tempdf because some rows are not useful\n",
    "\n",
    "df_length = 5000 #arbitrary, can change anytime, but for testing over and over leave at around 5k for run time\n",
    "    \n",
    "ufotypes = [-1] * df_length #just to fill the time df to be used for regression\n",
    "durations = [-1] * df_length\n",
    "timeOfDay = [-1] * df_length\n",
    "ufo_time_data = pd.DataFrame({'ufos':ufotypes,'duration_of_sighting':durations, 'time_of_day':timeOfDay})\n",
    "\n",
    "index = 0\n",
    "\n",
    "for count in range(0,10000): #Remember to change if change df_length, but not every value is useful so cannot be max\n",
    "     if(ufo_type[count] != 28 and time_type[count] != 0):#the easy values to get rid of \n",
    "        ufo_time_data.loc[index,\"ufos\"]=ufo_type[count] #filling \n",
    "        ufo_time_data.loc[index,\"duration_of_sighting\"]=time_type[count]\n",
    "        hours = ufos_main.datetime[count][-5:-3]#for time of day in military time\n",
    "        minutes = ufos_main.datetime[count][-2:]\n",
    "        time = hours+minutes#string concat\n",
    "        intTime = int(time)\n",
    "        ufo_time_data.loc[index,\"time_of_day\"]=intTime\n",
    "        index+=1\n",
    "\n",
    "toOmit = 0 #will change depending on df_length so no need to change here\n",
    "for i in ufo_time_data.time_of_day:\n",
    "    if i == -1:\n",
    "        toOmit+=1 #finds how many were not filled\n",
    "\n",
    "toKeep = df_length-toOmit #will find the last instance of the good value and get rid of the rest\n",
    "ufotypes = [-1] * toKeep\n",
    "durations = [-1] * toKeep\n",
    "timeOfDay = [-1] * toKeep\n",
    "ufo_time_df = pd.DataFrame({'ufos':ufotypes,'duration_of_sighting':durations, 'time_of_day':timeOfDay})\n",
    "\n",
    "for i in range(0,toKeep):\n",
    "    ufo_time_df.loc[i,\"ufos\"]=ufo_time_data.ufos[i]\n",
    "    ufo_time_df.loc[i,\"duration_of_sighting\"]=ufo_time_data.duration_of_sighting[i]\n",
    "    ufo_time_df.loc[i,\"time_of_day\"]=ufo_time_data.time_of_day[i]\n",
    "    \n",
    "ufo_time_df.head()"
   ]
  },
  {
   "cell_type": "code",
   "execution_count": 170,
   "id": "bd00f576",
   "metadata": {},
   "outputs": [
    {
     "name": "stderr",
     "output_type": "stream",
     "text": [
      "/Users/eaalthoff/opt/anaconda3/lib/python3.7/site-packages/ipykernel_launcher.py:3: SettingWithCopyWarning: \n",
      "A value is trying to be set on a copy of a slice from a DataFrame\n",
      "\n",
      "See the caveats in the documentation: https://pandas.pydata.org/pandas-docs/stable/user_guide/indexing.html#returning-a-view-versus-a-copy\n",
      "  This is separate from the ipykernel package so we can avoid doing imports until\n",
      "/Users/eaalthoff/opt/anaconda3/lib/python3.7/site-packages/ipykernel_launcher.py:5: SettingWithCopyWarning: \n",
      "A value is trying to be set on a copy of a slice from a DataFrame\n",
      "\n",
      "See the caveats in the documentation: https://pandas.pydata.org/pandas-docs/stable/user_guide/indexing.html#returning-a-view-versus-a-copy\n",
      "  \"\"\"\n"
     ]
    }
   ],
   "source": [
    "for i in range(0,len(ufo_time_df['time_of_day'])):\n",
    "    if(ufo_time_df.time_of_day[i] < 1200):\n",
    "        ufo_time_df.time_of_day[i] = ufo_time_df.time_of_day[i] + 2400\n",
    "for i in range(0,len(ufo_time_df['time_of_day'])):\n",
    "    ufo_time_df.time_of_day[i] = ufo_time_df.time_of_day[i] - 1200\n"
   ]
  },
  {
   "cell_type": "code",
   "execution_count": 171,
   "id": "652c0525",
   "metadata": {},
   "outputs": [],
   "source": [
    "ufo_time_df.to_csv('times_and_sightings.csv')"
   ]
  },
  {
   "cell_type": "code",
   "execution_count": 172,
   "id": "df3685ee",
   "metadata": {},
   "outputs": [],
   "source": [
    "import seaborn as sns\n",
    "states_us = ufos_main[ufos_main.country == \"us\"][\"state\"].value_counts().index\n",
    "states_ratio = ufos_main[ufos_main.country == \"us\"][\"state\"].value_counts().values\n",
    "states_us = [i.upper() for i in states_us]\n",
    "\n",
    "us_state_sightings = pd.DataFrame({'states':states_us,'sightings':states_ratio})"
   ]
  },
  {
   "cell_type": "code",
   "execution_count": 173,
   "id": "dffd48ac",
   "metadata": {},
   "outputs": [],
   "source": [
    "us_state_sightings.to_csv('states_sightings.csv')"
   ]
  },
  {
   "cell_type": "code",
   "execution_count": 174,
   "id": "39e95370",
   "metadata": {},
   "outputs": [],
   "source": [
    "ufos_main = ufos_main.dropna()\n",
    "ufos_main.drop(ufos_main[ufos_main['UFOtype'] == 'other'].index, inplace = True)\n",
    "ufos_main.drop(ufos_main[ufos_main['UFOtype'] == 'unknown'].index, inplace = True)\n",
    "\n",
    "uniqueUFOs = ufos_main.UFOtype.unique()\n",
    "count = [0] * len(uniqueUFOs) \n",
    "j = 0\n",
    "\n",
    "for i in uniqueUFOs:\n",
    "    count[j] = (ufos_main['UFOtype']==i).sum()\n",
    "    j+=1\n",
    "\n",
    "sightingCounts = pd.DataFrame({'ufo':uniqueUFOs,'count':count})\n",
    "sightingCounts.to_csv('sighting_counts.csv')"
   ]
  },
  {
   "cell_type": "code",
   "execution_count": null,
   "id": "a0398f9d",
   "metadata": {},
   "outputs": [],
   "source": []
  },
  {
   "cell_type": "code",
   "execution_count": null,
   "id": "03869fa9",
   "metadata": {},
   "outputs": [],
   "source": []
  }
 ],
 "metadata": {
  "kernelspec": {
   "display_name": "Python 3 (ipykernel)",
   "language": "python",
   "name": "python3"
  },
  "language_info": {
   "codemirror_mode": {
    "name": "ipython",
    "version": 3
   },
   "file_extension": ".py",
   "mimetype": "text/x-python",
   "name": "python",
   "nbconvert_exporter": "python",
   "pygments_lexer": "ipython3",
   "version": "3.7.13"
  }
 },
 "nbformat": 4,
 "nbformat_minor": 5
}
